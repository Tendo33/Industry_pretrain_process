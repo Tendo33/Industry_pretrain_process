{
 "cells": [
  {
   "cell_type": "code",
   "execution_count": null,
   "metadata": {},
   "outputs": [],
   "source": [
    "import os\n",
    "import shutil\n",
    "\n",
    "def gather_pdfs(root_folder, destination_folder):\n",
    "    # 创建目标文件夹，如果不存在则创建\n",
    "    if not os.path.exists(destination_folder):\n",
    "        os.makedirs(destination_folder)\n",
    "    \n",
    "    # 遍历根文件夹\n",
    "    for dirpath, dirnames, filenames in os.walk(root_folder):\n",
    "        for filename in filenames:\n",
    "            if filename.lower().endswith('.pdf'):\n",
    "                # 构建源文件路径\n",
    "                source_file = os.path.join(dirpath, filename)\n",
    "                # 构建目标文件路径\n",
    "                destination_file = os.path.join(destination_folder, filename)\n",
    "                # 复制文件到目标文件夹\n",
    "                shutil.copy2(source_file, destination_file)\n",
    "                print(f'Copied: {source_file} to {destination_file}')\n",
    "\n",
    "# 使用方法\n",
    "root_folder = r'/home/sunjinf/github_projet/nature_data/origin_pdf_second'  # 替换为你的根文件夹路径\n",
    "destination_folder = r'/home/sunjinf/github_projet/nature_data/origin_pdf_second2'  # 替换为你的目标文件夹路径\n",
    "\n",
    "gather_pdfs(root_folder, destination_folder)\n"
   ]
  }
 ],
 "metadata": {
  "kernelspec": {
   "display_name": "llm",
   "language": "python",
   "name": "python3"
  },
  "language_info": {
   "codemirror_mode": {
    "name": "ipython",
    "version": 3
   },
   "file_extension": ".py",
   "mimetype": "text/x-python",
   "name": "python",
   "nbconvert_exporter": "python",
   "pygments_lexer": "ipython3",
   "version": "3.9.18"
  }
 },
 "nbformat": 4,
 "nbformat_minor": 2
}
