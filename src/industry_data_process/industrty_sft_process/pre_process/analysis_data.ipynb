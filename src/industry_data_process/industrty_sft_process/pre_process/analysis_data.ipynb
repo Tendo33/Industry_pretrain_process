{
 "cells": [
  {
   "cell_type": "code",
   "execution_count": 1,
   "metadata": {},
   "outputs": [],
   "source": [
    "import pandas as pd"
   ]
  },
  {
   "cell_type": "markdown",
   "metadata": {},
   "source": [
    "# 智源sft数据"
   ]
  },
  {
   "cell_type": "code",
   "execution_count": 2,
   "metadata": {},
   "outputs": [
    {
     "name": "stdout",
     "output_type": "stream",
     "text": [
      "   id                                      conversations label langdetect  \\\n",
      "0   1  [{'from': 'human', 'value': 'See the multi-cho...               en   \n",
      "1   2  [{'from': 'human', 'value': 'This is some data...               en   \n",
      "2   3  [{'from': 'human', 'value': 'If you don't want...               en   \n",
      "3   4  [{'from': 'human', 'value': 'In a United State...               en   \n",
      "4   5  [{'from': 'human', 'value': 'Read the article ...               en   \n",
      "\n",
      "  source  \n",
      "0   flan  \n",
      "1   flan  \n",
      "2   flan  \n",
      "3   flan  \n",
      "4   flan  \n"
     ]
    }
   ],
   "source": [
    "data = pd.read_parquet(\n",
    "    r\"/data/nfs/data/Infinity-Instruct/7M_domains/commonsense/train-00000-of-00033.parquet\"\n",
    ")\n",
    "# 显示数据的前几行\n",
    "print(data.head())"
   ]
  },
  {
   "cell_type": "markdown",
   "metadata": {},
   "source": [
    "# Magpie-Qwen2-Pro-200K-Chinese"
   ]
  },
  {
   "cell_type": "code",
   "execution_count": 1,
   "metadata": {},
   "outputs": [
    {
     "name": "stdout",
     "output_type": "stream",
     "text": [
      "                                   uuid                    model  \\\n",
      "0  36b114d9-a8b2-5707-9225-4eab564738d0  Qwen/Qwen2-72B-Instruct   \n",
      "1  643c14f7-6f60-5164-91e1-588fa8a9ecb4  Qwen/Qwen2-72B-Instruct   \n",
      "2  34d1a93b-18a5-5157-9a55-c8da16d9c4c4  Qwen/Qwen2-72B-Instruct   \n",
      "3  93862871-8775-5e4c-a7f2-3da1bd3a221a  Qwen/Qwen2-72B-Instruct   \n",
      "4  16c0aad2-b8f1-5d0e-895e-8f3e2906b004  Qwen/Qwen2-72B-Instruct   \n",
      "\n",
      "                                   gen_input_configs  \\\n",
      "0  {'temperature': 1.0, 'top_p': 1.0, 'input_gene...   \n",
      "1  {'temperature': 1.1, 'top_p': 1.0, 'input_gene...   \n",
      "2  {'temperature': 1.2, 'top_p': 0.99, 'input_gen...   \n",
      "3  {'temperature': 1.0, 'top_p': 1.0, 'input_gene...   \n",
      "4  {'temperature': 1.1, 'top_p': 1.0, 'input_gene...   \n",
      "\n",
      "                                         instruction  \\\n",
      "0                                 请输出所有跟政企市场相关的关键词列表   \n",
      "1  开发一个定制的JavaScript解决方案，用于有效地平衡和排序一个二叉树。你可以假设输入是...   \n",
      "2                       在一个尚未被公开的领域中，描述五个最具创新性的产品概念。   \n",
      "3  请设计一段JavaScript函数，该函数需能够处理一串由不同字串所构成的阵列，并从中筛选出...   \n",
      "4  在Python中创建一个包含从-10到-1（包括）的负数列表。你应该使用列表推导式来形成新列...   \n",
      "\n",
      "                                            response  \\\n",
      "0  政企市场是一个涉及政府和企业合作、服务与产品的市场领域，以下是一些与政企市场相关的关键词列表...   \n",
      "1  为了实现一个自调整的二叉搜索树（AVL树），我们需要定义一个AVL树节点类，实现插入、删除和...   \n",
      "2  在探索未来可能的创新产品时，我们可以设想一些基于当前科技趋势和人类需求的概念。以下是五个在尚...   \n",
      "3  以下是一个JavaScript函数，它能够处理由不同字串所构成的阵列，并筛选出包含数量最高的...   \n",
      "4  要创建一个包含从-10到-1（包括）的负数列表，我们可以使用列表推导式。列表推导式是一种简洁...   \n",
      "\n",
      "                                       conversations        task_category  \\\n",
      "0  [{'from': 'human', 'value': '请输出所有跟政企市场相关的关键词列...  Information seeking   \n",
      "1  [{'from': 'human', 'value': '开发一个定制的JavaScript...   Coding & Debugging   \n",
      "2  [{'from': 'human', 'value': '在一个尚未被公开的领域中，描述五个...        Brainstorming   \n",
      "3  [{'from': 'human', 'value': '请设计一段JavaScript函数...   Coding & Debugging   \n",
      "4  [{'from': 'human', 'value': '在Python中创建一个包含从-1...   Coding & Debugging   \n",
      "\n",
      "                    other_task_category              task_category_generator  \\\n",
      "0                              [Others]  meta-llama/Meta-Llama-3-8B-Instruct   \n",
      "1      [Reasoning, Data analysis, Math]  meta-llama/Meta-Llama-3-8B-Instruct   \n",
      "2            [Creative writing, Others]  meta-llama/Meta-Llama-3-8B-Instruct   \n",
      "3  [Data analysis, Information seeking]  meta-llama/Meta-Llama-3-8B-Instruct   \n",
      "4                                [Math]  meta-llama/Meta-Llama-3-8B-Instruct   \n",
      "\n",
      "  difficulty  ...                    quality_generator llama_guard_2  \\\n",
      "0       easy  ...  meta-llama/Meta-Llama-3-8B-Instruct          safe   \n",
      "1       hard  ...  meta-llama/Meta-Llama-3-8B-Instruct          safe   \n",
      "2       hard  ...  meta-llama/Meta-Llama-3-8B-Instruct          safe   \n",
      "3     medium  ...  meta-llama/Meta-Llama-3-8B-Instruct          safe   \n",
      "4       easy  ...  meta-llama/Meta-Llama-3-8B-Instruct          safe   \n",
      "\n",
      "                     reward_model instruct_reward min_neighbor_distance  \\\n",
      "0  sfairXC/FsfairX-LLaMA3-RM-v0.1       -0.548828              0.158653   \n",
      "1  sfairXC/FsfairX-LLaMA3-RM-v0.1        6.179688              0.089346   \n",
      "2  sfairXC/FsfairX-LLaMA3-RM-v0.1        2.216797              0.199630   \n",
      "3  sfairXC/FsfairX-LLaMA3-RM-v0.1        5.648438              0.068159   \n",
      "4  sfairXC/FsfairX-LLaMA3-RM-v0.1        4.000000              0.168761   \n",
      "\n",
      "  repeat_count min_similar_uuid instruction_length  response_length  language  \n",
      "0            0             None                 18              585        ZH  \n",
      "1            0             None                161             4150        ZH  \n",
      "2            0             None                 28              715        ZH  \n",
      "3            0             None                106              981        ZH  \n",
      "4            0             None                126              579        ZH  \n",
      "\n",
      "[5 rows x 25 columns]\n"
     ]
    }
   ],
   "source": [
    "import pandas as pd\n",
    "data_path = (\n",
    "    r\"/data/nfs/data/Magpie-Qwen2-Pro-200K-Chinese/data/train-00000-of-00002.parquet\"\n",
    ")\n",
    "data = pd.read_parquet(data_path)\n",
    "# 显示数据的前几行\n",
    "print(data.head())"
   ]
  }
 ],
 "metadata": {
  "kernelspec": {
   "display_name": "llm",
   "language": "python",
   "name": "python3"
  },
  "language_info": {
   "codemirror_mode": {
    "name": "ipython",
    "version": 3
   },
   "file_extension": ".py",
   "mimetype": "text/x-python",
   "name": "python",
   "nbconvert_exporter": "python",
   "pygments_lexer": "ipython3",
   "version": "3.10.13"
  }
 },
 "nbformat": 4,
 "nbformat_minor": 2
}
