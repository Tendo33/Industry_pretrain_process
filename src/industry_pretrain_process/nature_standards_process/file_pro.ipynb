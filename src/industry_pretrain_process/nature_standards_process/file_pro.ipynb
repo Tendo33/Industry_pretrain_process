{
 "cells": [
  {
   "cell_type": "markdown",
   "metadata": {},
   "source": [
    "# 将不同文件夹下的pdf文件合并到一个文件夹下"
   ]
  },
  {
   "cell_type": "code",
   "execution_count": null,
   "metadata": {},
   "outputs": [],
   "source": [
    "import os\n",
    "import shutil\n",
    "\n",
    "def gather_pdfs(root_folder, destination_folder):\n",
    "    # 创建目标文件夹，如果不存在则创建\n",
    "    if not os.path.exists(destination_folder):\n",
    "        os.makedirs(destination_folder)\n",
    "    \n",
    "    # 遍历根文件夹\n",
    "    for dirpath, dirnames, filenames in os.walk(root_folder):\n",
    "        for filename in filenames:\n",
    "            if filename.lower().endswith('.pdf'):\n",
    "                # 构建源文件路径\n",
    "                source_file = os.path.join(dirpath, filename)\n",
    "                # 构建目标文件路径\n",
    "                destination_file = os.path.join(destination_folder, filename)\n",
    "                # 复制文件到目标文件夹\n",
    "                shutil.copy2(source_file, destination_file)\n",
    "                print(f'Copied: {source_file} to {destination_file}')\n",
    "\n",
    "# 使用方法\n",
    "root_folder = r'/home/sunjinf/github_projet/nature_data/origin_pdf_third'  # 替换为你的根文件夹路径\n",
    "destination_folder = r'/home/sunjinf/github_projet/nature_data/origin_pdf_third2'  # 替换为你的目标文件夹路径\n",
    "\n",
    "gather_pdfs(root_folder, destination_folder)\n"
   ]
  },
  {
   "cell_type": "markdown",
   "metadata": {},
   "source": [
    "# 将不同的mk合并成一个markdown"
   ]
  },
  {
   "cell_type": "code",
   "execution_count": 1,
   "metadata": {},
   "outputs": [],
   "source": [
    "import os\n",
    "import json\n",
    "def process_markdown_files(input_folder: str, output_file: str):\n",
    "    for subdir, _, files in os.walk(input_folder):\n",
    "        for file in files:\n",
    "            #print(output_file)\n",
    "            if file.endswith(\".md\"):\n",
    "                folder_name = os.path.basename(subdir)\n",
    "                file_path = os.path.join(subdir, file)\n",
    "                with open(file_path, 'r', encoding='utf-8') as f:\n",
    "                    content = f.read()\n",
    "                result = {\"title\": folder_name, \"content\": content}\n",
    "                with open(output_file, 'a', encoding='utf-8') as f:\n",
    "                    f.write(json.dumps(result, ensure_ascii=False) + '\\n')"
   ]
  },
  {
   "cell_type": "code",
   "execution_count": 2,
   "metadata": {},
   "outputs": [],
   "source": [
    "input_folder = r\"/share_data/data/nature_data/out_papers_1\"\n",
    "output_file = r\"/share_data/data/nature_data/out_papers_1_text_ori.jsonl\"\n",
    "process_markdown_files(input_folder, output_file)"
   ]
  },
  {
   "cell_type": "code",
   "execution_count": null,
   "metadata": {},
   "outputs": [],
   "source": []
  }
 ],
 "metadata": {
  "kernelspec": {
   "display_name": "llm",
   "language": "python",
   "name": "python3"
  },
  "language_info": {
   "codemirror_mode": {
    "name": "ipython",
    "version": 3
   },
   "file_extension": ".py",
   "mimetype": "text/x-python",
   "name": "python",
   "nbconvert_exporter": "python",
   "pygments_lexer": "ipython3",
   "version": "3.10.14"
  }
 },
 "nbformat": 4,
 "nbformat_minor": 2
}
