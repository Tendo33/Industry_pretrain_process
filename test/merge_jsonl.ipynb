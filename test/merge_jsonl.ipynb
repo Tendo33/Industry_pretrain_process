{
 "cells": [
  {
   "cell_type": "code",
   "execution_count": 1,
   "metadata": {},
   "outputs": [],
   "source": [
    "import os\n",
    "import json\n",
    "\n",
    "def merge_jsonl_files(input_dir, output_file):\n",
    "    \"\"\"\n",
    "    将指定目录中的多个JSONL文件融合成一个文件。\n",
    "\n",
    "    :param input_dir: 存放JSONL文件的目录路径\n",
    "    :param output_file: 输出融合后JSONL文件的路径\n",
    "    \"\"\"\n",
    "    with open(output_file, 'w', encoding='utf-8') as outfile:\n",
    "        for file_name in os.listdir(input_dir):\n",
    "            file_path = os.path.join(input_dir, file_name)\n",
    "            if os.path.isfile(file_path) and file_name.endswith('.jsonl'):\n",
    "                with open(file_path, 'r', encoding='utf-8') as infile:\n",
    "                    for line in infile:\n",
    "                        # 确保每一行都是合法的JSON对象\n",
    "                        try:\n",
    "                            json_obj = json.loads(line.strip())\n",
    "                            json.dump(json_obj, outfile, ensure_ascii=False)\n",
    "                            outfile.write('\\n')\n",
    "                        except json.JSONDecodeError as e:\n",
    "                            print(f\"文件 {file_name} 中有错误的JSON行: {e}\")\n",
    "                            continue\n"
   ]
  },
  {
   "cell_type": "code",
   "execution_count": 5,
   "metadata": {},
   "outputs": [
    {
     "name": "stdout",
     "output_type": "stream",
     "text": [
      "JSONL文件融合完成。\n"
     ]
    }
   ],
   "source": [
    "input_directory = '/data/nfs/data/Magpie-Qwen2-Pro-200K-Chinese-jsonl/data_filter'  # 替换为存放JSONL文件的目录路径\n",
    "output_file_path = '/data/nfs/data/Magpie-Qwen2-Pro-200K-Chinese-jsonl/Magpie-Qwen2-Pro-200K-Chinese-all-filter.jsonl'    # 替换为输出融合后JSONL文件的路径\n",
    "\n",
    "merge_jsonl_files(input_directory, output_file_path)\n",
    "print(\"JSONL文件融合完成。\")"
   ]
  },
  {
   "cell_type": "code",
   "execution_count": null,
   "metadata": {},
   "outputs": [],
   "source": [
    "input_directory = '/data/nfs/data/Magpie-Qwen2-Pro-1M-v0.1-jsonl/data_filter'  # 替换为存放JSONL文件的目录路径\n",
    "output_file_path = '/data/nfs/data/Magpie-Qwen2-Pro-1M-v0.1-jsonl/Magpie-Qwen2-Pro-1M-v0.1-all-filter.jsonl'    # 替换为输出融合后JSONL文件的路径\n",
    "\n",
    "merge_jsonl_files(input_directory, output_file_path)\n",
    "print(\"JSONL文件融合完成。\")"
   ]
  },
  {
   "cell_type": "code",
   "execution_count": 4,
   "metadata": {},
   "outputs": [
    {
     "name": "stdout",
     "output_type": "stream",
     "text": [
      "JSONL文件融合完成。\n"
     ]
    }
   ],
   "source": [
    "input_directory = '/data/nfs/data/Magpie-Llama-3.1-Pro-300K-Filtered-jsonl/data_filter'  # 替换为存放JSONL文件的目录路径\n",
    "output_file_path = '/data/nfs/data/Magpie-Llama-3.1-Pro-300K-Filtered-jsonl/Magpie-Llama-3.1-Pro-300K-all-filter.jsonl'    # 替换为输出融合后JSONL文件的路径\n",
    "\n",
    "merge_jsonl_files(input_directory, output_file_path)\n",
    "print(\"JSONL文件融合完成。\")"
   ]
  }
 ],
 "metadata": {
  "kernelspec": {
   "display_name": "llm",
   "language": "python",
   "name": "python3"
  },
  "language_info": {
   "codemirror_mode": {
    "name": "ipython",
    "version": 3
   },
   "file_extension": ".py",
   "mimetype": "text/x-python",
   "name": "python",
   "nbconvert_exporter": "python",
   "pygments_lexer": "ipython3",
   "version": "3.10.13"
  }
 },
 "nbformat": 4,
 "nbformat_minor": 2
}
